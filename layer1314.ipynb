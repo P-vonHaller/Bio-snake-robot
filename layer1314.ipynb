{
  "nbformat": 4,
  "nbformat_minor": 0,
  "metadata": {
    "colab": {
      "name": "layer1314.ipynb",
      "version": "0.3.2",
      "provenance": []
    },
    "kernelspec": {
      "name": "python3",
      "display_name": "Python 3"
    }
  },
  "cells": [
    {
      "cell_type": "code",
      "metadata": {
        "id": "UssNIvWfDD2D",
        "colab_type": "code",
        "colab": {
          "base_uri": "https://localhost:8080/",
          "height": 101
        },
        "outputId": "5b9a37b9-fca1-4d3c-d4d9-d1aa33f7fea1"
      },
      "source": [
        "import torch\n",
        "import torch.nn as nn\n",
        "import torch.nn.functional as F\n",
        "import math\n",
        "import numpy\n",
        "\n",
        "class Net(nn.Module):\n",
        "    \n",
        "    def __init__(self):\n",
        "        super(Net, self).__init__()\n",
        "        \n",
        "        #example - I think we should get this from b11/b12\n",
        "        self.lin = nn.Linear(92, 88200)\n",
        "        \n",
        "        # layer 13: filter size = 9 x 9 x 21\n",
        "        self.conv1 = nn.Conv2d(in_channels = 21, out_channels = 105, kernel_size = (9, 9), stride=1)\n",
        "        \n",
        "        #layer 14\n",
        "        #make max pool of -x to get min pool\n",
        "        self.min_pool = nn.MaxPool3d((5, 1, 1), stride = (1, 1, 1))\n",
        "        \n",
        "\n",
        "    def forward(self, x):\n",
        "        x = self.lin(self.conv1(x))\n",
        "        x = self.min_pool(-x)\n",
        "        return x\n",
        "\n",
        "    def num_flat_features(self, x):\n",
        "        size = x.size()[1:]  #just coppied this function from Patrick\n",
        "        num_features = 1\n",
        "        for s in size:\n",
        "            num_features *= s\n",
        "        return num_features\n",
        "\n",
        "\n",
        "net = Net()\n",
        "print(net)\n",
        "\n",
        "input = torch.randn(20, 21, 50, 100)\n",
        "out = net(input)\n",
        "print(len(out))\n",
        "print(out.size())\n"
      ],
      "execution_count": 0,
      "outputs": [
        {
          "output_type": "stream",
          "text": [
            "Net(\n",
            "  (lin): Linear(in_features=92, out_features=88200, bias=True)\n",
            "  (conv1): Conv2d(21, 105, kernel_size=(9, 9), stride=(1, 1))\n",
            "  (min_pool): MaxPool3d(kernel_size=(5, 1, 1), stride=(1, 1, 1), padding=0, dilation=1, ceil_mode=False)\n",
            ")\n"
          ],
          "name": "stdout"
        }
      ]
    }
  ]
}