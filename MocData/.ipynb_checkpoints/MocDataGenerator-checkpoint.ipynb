{
 "cells": [
  {
   "cell_type": "code",
   "execution_count": 53,
   "metadata": {},
   "outputs": [],
   "source": [
    "import torch\n",
    "import torch.nn as nn\n",
    "from torch.utils import data\n",
    "import numpy as np\n",
    "#from datasets import VOCDataSet\n",
    "\n",
    "import os\n",
    "import os.path as osp\n",
    "#import numpy as np\n",
    "import random\n",
    "import matplotlib.pyplot as plt\n",
    "import collections\n",
    "#import torch\n",
    "import torchvision\n",
    "import cv2\n",
    "from torch.utils import data"
   ]
  },
  {
   "cell_type": "markdown",
   "metadata": {},
   "source": [
    "# Change code for different OS (\\ or /)"
   ]
  },
  {
   "cell_type": "code",
   "execution_count": 83,
   "metadata": {},
   "outputs": [],
   "source": [
    "class VOCDataSet(data.Dataset):\n",
    "    def __init__(self, root, list_path, max_iters=None, crop_size=(321, 321), mean=(128, 128, 128), scale=True, mirror=True, ignore_label=255):\n",
    "        self.root = root\n",
    "        print(root)\n",
    "        self.list_path = list_path\n",
    "        self.crop_h, self.crop_w = crop_size\n",
    "        self.scale = scale\n",
    "        self.ignore_label = ignore_label\n",
    "        self.mean = mean\n",
    "        self.is_mirror = mirror\n",
    "        # self.mean_bgr = np.array([104.00698793, 116.66876762, 122.67891434])\n",
    "        self.img_ids = [i_id.strip() for i_id in open(list_path)]\n",
    "        if not max_iters==None:\t\n",
    "            self.img_ids = self.img_ids * int(np.ceil(float(max_iters) / len(self.img_ids)))\n",
    "        self.files = []\n",
    "        # for split in [\"train\", \"trainval\", \"val\"]:\n",
    "        counter = 0 #for testing\n",
    "        for name in self.img_ids:\n",
    "            counter += 1\n",
    "            img_file = osp.join(self.root, \"JPEGImages\\\\%s.jpg\" % name) #change / and \\ according to os!!!\n",
    "            print(img_file)\n",
    "            label_file = osp.join(self.root, \"SegmentationClassAug\\\\%s.png\" % name)#change / and \\ according to os!!!\n",
    "            print(img_file)\n",
    "            self.files.append({\n",
    "                \"img\": img_file,\n",
    "                \"label\": label_file,\n",
    "                \"name\": name\n",
    "            })\n",
    "            if counter > 10:\n",
    "                break\n",
    "\n",
    "    def __len__(self):\n",
    "        return len(self.files)\n",
    "\n",
    "    def generate_scale_label(self, image, label):\n",
    "        f_scale = 0.5 + random.randint(0, 11) / 10.0\n",
    "        image = cv2.resize(image, None, fx=f_scale, fy=f_scale, interpolation = cv2.INTER_LINEAR)\n",
    "        label = cv2.resize(label, None, fx=f_scale, fy=f_scale, interpolation = cv2.INTER_NEAREST)\n",
    "        return image, label\n",
    "\n",
    "    def __getitem__(self, index):\n",
    "        #print('getting data')\n",
    "        datafiles = self.files[index]\n",
    "        #print(datafiles)\n",
    "        image = cv2.imread(datafiles[\"img\"], cv2.IMREAD_COLOR)\n",
    "        label = cv2.imread(datafiles[\"label\"], cv2.IMREAD_GRAYSCALE)\n",
    "        #print(label)\n",
    "        size = image.shape\n",
    "        name = datafiles[\"name\"]\n",
    "        if self.scale:\n",
    "            image, label = self.generate_scale_label(image, label)\n",
    "        image = np.asarray(image, np.float32)\n",
    "        image -= self.mean\n",
    "        img_h, img_w = label.shape\n",
    "        pad_h = max(self.crop_h - img_h, 0)\n",
    "        pad_w = max(self.crop_w - img_w, 0)\n",
    "        if pad_h > 0 or pad_w > 0:\n",
    "            img_pad = cv2.copyMakeBorder(image, 0, pad_h, 0, \n",
    "                pad_w, cv2.BORDER_CONSTANT, \n",
    "                value=(0.0, 0.0, 0.0))\n",
    "            label_pad = cv2.copyMakeBorder(label, 0, pad_h, 0, \n",
    "                pad_w, cv2.BORDER_CONSTANT,\n",
    "                value=(self.ignore_label,))\n",
    "        else:\n",
    "            img_pad, label_pad = image, label\n",
    "\n",
    "        img_h, img_w = label_pad.shape\n",
    "        h_off = random.randint(0, img_h - self.crop_h)\n",
    "        w_off = random.randint(0, img_w - self.crop_w)\n",
    "        # roi = cv2.Rect(w_off, h_off, self.crop_w, self.crop_h);\n",
    "        image = np.asarray(img_pad[h_off : h_off+self.crop_h, w_off : w_off+self.crop_w], np.float32)\n",
    "        label = np.asarray(label_pad[h_off : h_off+self.crop_h, w_off : w_off+self.crop_w], np.float32)\n",
    "        #image = image[:, :, ::-1]  # change to BGR\n",
    "        image = image.transpose((2, 0, 1))\n",
    "        if self.is_mirror:\n",
    "            flip = np.random.choice(2) * 2 - 1\n",
    "            image = image[:, :, ::flip]\n",
    "            label = label[:, ::flip]\n",
    "\n",
    "        return image.copy(), label.copy(), np.array(size), name\n"
   ]
  },
  {
   "cell_type": "code",
   "execution_count": 112,
   "metadata": {},
   "outputs": [],
   "source": [
    "DATA_DIRECTORY = 'C:\\\\Users\\\\Robert Feussner\\\\Desktop\\\\VOCdevkit\\\\VOC2012'\n",
    "DATA_LIST_PATH = 'train_aug.txt'\n",
    "\n",
    "IMG_MEAN = np.array((104.00698793,116.66876762,122.67891434), dtype=np.float32) \n",
    "\n",
    "NUM_STEPS = 20000\n",
    "BATCH_SIZE = 5\n",
    "INPUT_SIZE = (512,512)"
   ]
  },
  {
   "cell_type": "code",
   "execution_count": 113,
   "metadata": {},
   "outputs": [
    {
     "name": "stdout",
     "output_type": "stream",
     "text": [
      "C:\\Users\\Robert Feussner\\Desktop\\VOCdevkit\\VOC2012\n"
     ]
    }
   ],
   "source": [
    "print(DATA_DIRECTORY)"
   ]
  },
  {
   "cell_type": "code",
   "execution_count": 114,
   "metadata": {},
   "outputs": [
    {
     "name": "stdout",
     "output_type": "stream",
     "text": [
      "C:\\Users\\Robert Feussner\\Desktop\\VOCdevkit\\VOC2012\n",
      "C:\\Users\\Robert Feussner\\Desktop\\VOCdevkit\\VOC2012\\JPEGImages\\2007_000032.jpg\n",
      "C:\\Users\\Robert Feussner\\Desktop\\VOCdevkit\\VOC2012\\JPEGImages\\2007_000032.jpg\n",
      "C:\\Users\\Robert Feussner\\Desktop\\VOCdevkit\\VOC2012\\JPEGImages\\2007_000039.jpg\n",
      "C:\\Users\\Robert Feussner\\Desktop\\VOCdevkit\\VOC2012\\JPEGImages\\2007_000039.jpg\n",
      "C:\\Users\\Robert Feussner\\Desktop\\VOCdevkit\\VOC2012\\JPEGImages\\2007_000063.jpg\n",
      "C:\\Users\\Robert Feussner\\Desktop\\VOCdevkit\\VOC2012\\JPEGImages\\2007_000063.jpg\n",
      "C:\\Users\\Robert Feussner\\Desktop\\VOCdevkit\\VOC2012\\JPEGImages\\2007_000068.jpg\n",
      "C:\\Users\\Robert Feussner\\Desktop\\VOCdevkit\\VOC2012\\JPEGImages\\2007_000068.jpg\n",
      "C:\\Users\\Robert Feussner\\Desktop\\VOCdevkit\\VOC2012\\JPEGImages\\2007_000121.jpg\n",
      "C:\\Users\\Robert Feussner\\Desktop\\VOCdevkit\\VOC2012\\JPEGImages\\2007_000121.jpg\n",
      "C:\\Users\\Robert Feussner\\Desktop\\VOCdevkit\\VOC2012\\JPEGImages\\2007_000170.jpg\n",
      "C:\\Users\\Robert Feussner\\Desktop\\VOCdevkit\\VOC2012\\JPEGImages\\2007_000170.jpg\n",
      "C:\\Users\\Robert Feussner\\Desktop\\VOCdevkit\\VOC2012\\JPEGImages\\2007_000241.jpg\n",
      "C:\\Users\\Robert Feussner\\Desktop\\VOCdevkit\\VOC2012\\JPEGImages\\2007_000241.jpg\n",
      "C:\\Users\\Robert Feussner\\Desktop\\VOCdevkit\\VOC2012\\JPEGImages\\2007_000243.jpg\n",
      "C:\\Users\\Robert Feussner\\Desktop\\VOCdevkit\\VOC2012\\JPEGImages\\2007_000243.jpg\n",
      "C:\\Users\\Robert Feussner\\Desktop\\VOCdevkit\\VOC2012\\JPEGImages\\2007_000250.jpg\n",
      "C:\\Users\\Robert Feussner\\Desktop\\VOCdevkit\\VOC2012\\JPEGImages\\2007_000250.jpg\n",
      "C:\\Users\\Robert Feussner\\Desktop\\VOCdevkit\\VOC2012\\JPEGImages\\2007_000256.jpg\n",
      "C:\\Users\\Robert Feussner\\Desktop\\VOCdevkit\\VOC2012\\JPEGImages\\2007_000256.jpg\n",
      "C:\\Users\\Robert Feussner\\Desktop\\VOCdevkit\\VOC2012\\JPEGImages\\2007_000333.jpg\n",
      "C:\\Users\\Robert Feussner\\Desktop\\VOCdevkit\\VOC2012\\JPEGImages\\2007_000333.jpg\n"
     ]
    }
   ],
   "source": [
    "v = VOCDataSet(DATA_DIRECTORY, DATA_LIST_PATH, max_iters=NUM_STEPS*BATCH_SIZE, crop_size=INPUT_SIZE, scale=False, mirror=True, mean=IMG_MEAN)"
   ]
  },
  {
   "cell_type": "code",
   "execution_count": 115,
   "metadata": {},
   "outputs": [
    {
     "data": {
      "text/plain": [
       "(array([[[  0.      ,   0.      ,   0.      , ..., 103.99301 ,\n",
       "          103.99301 , 103.99301 ],\n",
       "         [  0.      ,   0.      ,   0.      , ..., 105.99301 ,\n",
       "          104.99301 , 104.99301 ],\n",
       "         [  0.      ,   0.      ,   0.      , ..., 106.99301 ,\n",
       "          105.99301 , 105.99301 ],\n",
       "         ...,\n",
       "         [  0.      ,   0.      ,   0.      , ...,   0.      ,\n",
       "            0.      ,   0.      ],\n",
       "         [  0.      ,   0.      ,   0.      , ...,   0.      ,\n",
       "            0.      ,   0.      ],\n",
       "         [  0.      ,   0.      ,   0.      , ...,   0.      ,\n",
       "            0.      ,   0.      ]],\n",
       " \n",
       "        [[  0.      ,   0.      ,   0.      , ...,  76.33123 ,\n",
       "           76.33123 ,  76.33123 ],\n",
       "         [  0.      ,   0.      ,   0.      , ...,  78.33123 ,\n",
       "           77.33123 ,  77.33123 ],\n",
       "         [  0.      ,   0.      ,   0.      , ...,  79.33123 ,\n",
       "           78.33123 ,  78.33123 ],\n",
       "         ...,\n",
       "         [  0.      ,   0.      ,   0.      , ...,   0.      ,\n",
       "            0.      ,   0.      ],\n",
       "         [  0.      ,   0.      ,   0.      , ...,   0.      ,\n",
       "            0.      ,   0.      ],\n",
       "         [  0.      ,   0.      ,   0.      , ...,   0.      ,\n",
       "            0.      ,   0.      ]],\n",
       " \n",
       "        [[  0.      ,   0.      ,   0.      , ...,   8.321083,\n",
       "            8.321083,   8.321083],\n",
       "         [  0.      ,   0.      ,   0.      , ...,  10.321083,\n",
       "            9.321083,   9.321083],\n",
       "         [  0.      ,   0.      ,   0.      , ...,  11.321083,\n",
       "           10.321083,  10.321083],\n",
       "         ...,\n",
       "         [  0.      ,   0.      ,   0.      , ...,   0.      ,\n",
       "            0.      ,   0.      ],\n",
       "         [  0.      ,   0.      ,   0.      , ...,   0.      ,\n",
       "            0.      ,   0.      ],\n",
       "         [  0.      ,   0.      ,   0.      , ...,   0.      ,\n",
       "            0.      ,   0.      ]]], dtype=float32),\n",
       " array([[255., 255., 255., ...,   0.,   0.,   0.],\n",
       "        [255., 255., 255., ...,   0.,   0.,   0.],\n",
       "        [255., 255., 255., ...,   0.,   0.,   0.],\n",
       "        ...,\n",
       "        [255., 255., 255., ..., 255., 255., 255.],\n",
       "        [255., 255., 255., ..., 255., 255., 255.],\n",
       "        [255., 255., 255., ..., 255., 255., 255.]], dtype=float32),\n",
       " array([281, 500,   3]),\n",
       " '2007_000032')"
      ]
     },
     "execution_count": 115,
     "metadata": {},
     "output_type": "execute_result"
    }
   ],
   "source": [
    "v.__getitem__(0)"
   ]
  },
  {
   "cell_type": "code",
   "execution_count": null,
   "metadata": {},
   "outputs": [],
   "source": []
  },
  {
   "cell_type": "code",
   "execution_count": null,
   "metadata": {},
   "outputs": [],
   "source": []
  },
  {
   "cell_type": "code",
   "execution_count": null,
   "metadata": {},
   "outputs": [],
   "source": []
  },
  {
   "cell_type": "code",
   "execution_count": null,
   "metadata": {},
   "outputs": [],
   "source": []
  },
  {
   "cell_type": "markdown",
   "metadata": {},
   "source": [
    "# Somehow only works with num_workers=0, otherwise broken pipe error\n",
    "### At least here..."
   ]
  },
  {
   "cell_type": "code",
   "execution_count": 116,
   "metadata": {},
   "outputs": [
    {
     "name": "stdout",
     "output_type": "stream",
     "text": [
      "C:\\Users\\Robert Feussner\\Desktop\\VOCdevkit\\VOC2012\n",
      "C:\\Users\\Robert Feussner\\Desktop\\VOCdevkit\\VOC2012\\JPEGImages\\2007_000032.jpg\n",
      "C:\\Users\\Robert Feussner\\Desktop\\VOCdevkit\\VOC2012\\JPEGImages\\2007_000032.jpg\n",
      "C:\\Users\\Robert Feussner\\Desktop\\VOCdevkit\\VOC2012\\JPEGImages\\2007_000039.jpg\n",
      "C:\\Users\\Robert Feussner\\Desktop\\VOCdevkit\\VOC2012\\JPEGImages\\2007_000039.jpg\n",
      "C:\\Users\\Robert Feussner\\Desktop\\VOCdevkit\\VOC2012\\JPEGImages\\2007_000063.jpg\n",
      "C:\\Users\\Robert Feussner\\Desktop\\VOCdevkit\\VOC2012\\JPEGImages\\2007_000063.jpg\n",
      "C:\\Users\\Robert Feussner\\Desktop\\VOCdevkit\\VOC2012\\JPEGImages\\2007_000068.jpg\n",
      "C:\\Users\\Robert Feussner\\Desktop\\VOCdevkit\\VOC2012\\JPEGImages\\2007_000068.jpg\n",
      "C:\\Users\\Robert Feussner\\Desktop\\VOCdevkit\\VOC2012\\JPEGImages\\2007_000121.jpg\n",
      "C:\\Users\\Robert Feussner\\Desktop\\VOCdevkit\\VOC2012\\JPEGImages\\2007_000121.jpg\n",
      "C:\\Users\\Robert Feussner\\Desktop\\VOCdevkit\\VOC2012\\JPEGImages\\2007_000170.jpg\n",
      "C:\\Users\\Robert Feussner\\Desktop\\VOCdevkit\\VOC2012\\JPEGImages\\2007_000170.jpg\n",
      "C:\\Users\\Robert Feussner\\Desktop\\VOCdevkit\\VOC2012\\JPEGImages\\2007_000241.jpg\n",
      "C:\\Users\\Robert Feussner\\Desktop\\VOCdevkit\\VOC2012\\JPEGImages\\2007_000241.jpg\n",
      "C:\\Users\\Robert Feussner\\Desktop\\VOCdevkit\\VOC2012\\JPEGImages\\2007_000243.jpg\n",
      "C:\\Users\\Robert Feussner\\Desktop\\VOCdevkit\\VOC2012\\JPEGImages\\2007_000243.jpg\n",
      "C:\\Users\\Robert Feussner\\Desktop\\VOCdevkit\\VOC2012\\JPEGImages\\2007_000250.jpg\n",
      "C:\\Users\\Robert Feussner\\Desktop\\VOCdevkit\\VOC2012\\JPEGImages\\2007_000250.jpg\n",
      "C:\\Users\\Robert Feussner\\Desktop\\VOCdevkit\\VOC2012\\JPEGImages\\2007_000256.jpg\n",
      "C:\\Users\\Robert Feussner\\Desktop\\VOCdevkit\\VOC2012\\JPEGImages\\2007_000256.jpg\n",
      "C:\\Users\\Robert Feussner\\Desktop\\VOCdevkit\\VOC2012\\JPEGImages\\2007_000333.jpg\n",
      "C:\\Users\\Robert Feussner\\Desktop\\VOCdevkit\\VOC2012\\JPEGImages\\2007_000333.jpg\n"
     ]
    }
   ],
   "source": [
    "trainloader = data.DataLoader(VOCDataSet(DATA_DIRECTORY, DATA_LIST_PATH, max_iters=NUM_STEPS*BATCH_SIZE, crop_size=INPUT_SIZE, scale=True, mirror=True, \n",
    "                                         mean=IMG_MEAN), \n",
    "                              batch_size=BATCH_SIZE, shuffle=True, num_workers=0, pin_memory=True)"
   ]
  },
  {
   "cell_type": "code",
   "execution_count": 118,
   "metadata": {},
   "outputs": [
    {
     "name": "stdout",
     "output_type": "stream",
     "text": [
      "torch.Size([5, 3, 512, 512])\n",
      "tensor([[[  0.,   0.,   0.,  ...,   0.,   0.,   0.],\n",
      "         [  0.,   0.,   0.,  ...,   0.,   0.,   0.],\n",
      "         [  0.,   0.,   0.,  ...,   0.,   0.,   0.],\n",
      "         ...,\n",
      "         [255., 255., 255.,  ..., 255., 255., 255.],\n",
      "         [255., 255., 255.,  ..., 255., 255., 255.],\n",
      "         [255., 255., 255.,  ..., 255., 255., 255.]],\n",
      "\n",
      "        [[  0.,   0.,   0.,  ..., 255., 255., 255.],\n",
      "         [  0.,   0.,   0.,  ..., 255., 255., 255.],\n",
      "         [  0.,   0.,   0.,  ..., 255., 255., 255.],\n",
      "         ...,\n",
      "         [255., 255., 255.,  ..., 255., 255., 255.],\n",
      "         [255., 255., 255.,  ..., 255., 255., 255.],\n",
      "         [255., 255., 255.,  ..., 255., 255., 255.]],\n",
      "\n",
      "        [[  0.,   0.,   0.,  ...,   0.,   0.,   0.],\n",
      "         [  0.,   0.,   0.,  ...,   0.,   0.,   0.],\n",
      "         [  0.,   0.,   0.,  ...,   0.,   0.,   0.],\n",
      "         ...,\n",
      "         [  0.,   0.,   0.,  ...,   0.,   0.,   0.],\n",
      "         [  0.,   0.,   0.,  ...,   0.,   0.,   0.],\n",
      "         [  0.,   0.,   0.,  ...,   0.,   0.,   0.]],\n",
      "\n",
      "        [[  0.,   0.,   0.,  ...,   0.,   0.,   0.],\n",
      "         [  0.,   0.,   0.,  ...,   0.,   0.,   0.],\n",
      "         [  0.,   0.,   0.,  ..., 255., 255., 255.],\n",
      "         ...,\n",
      "         [  0.,   0.,   0.,  ...,   3.,   3.,   3.],\n",
      "         [  0.,   0.,   0.,  ...,   3.,   3.,   3.],\n",
      "         [  0.,   0.,   0.,  ...,   3.,   3.,   3.]],\n",
      "\n",
      "        [[  0.,   0.,   0.,  ..., 255., 255., 255.],\n",
      "         [  0.,   0.,   0.,  ..., 255., 255., 255.],\n",
      "         [  0.,   0.,   0.,  ..., 255., 255., 255.],\n",
      "         ...,\n",
      "         [255., 255., 255.,  ..., 255., 255., 255.],\n",
      "         [255., 255., 255.,  ..., 255., 255., 255.],\n",
      "         [255., 255., 255.,  ..., 255., 255., 255.]]])\n",
      "torch.Size([5, 3, 512, 512])\n",
      "tensor([[[  0.,   0.,   0.,  ...,   0.,   0.,   0.],\n",
      "         [  0.,   0.,   0.,  ...,   0.,   0.,   0.],\n",
      "         [  0.,   0.,   0.,  ...,   0.,   0.,   0.],\n",
      "         ...,\n",
      "         [255., 255., 255.,  ..., 255., 255., 255.],\n",
      "         [255., 255., 255.,  ..., 255., 255., 255.],\n",
      "         [255., 255., 255.,  ..., 255., 255., 255.]],\n",
      "\n",
      "        [[  0.,   0.,   0.,  ...,   0.,   0.,   0.],\n",
      "         [  0.,   0.,   0.,  ...,   0.,   0.,   0.],\n",
      "         [  0.,   0.,   0.,  ...,   0.,   0.,   0.],\n",
      "         ...,\n",
      "         [255., 255., 255.,  ..., 255., 255., 255.],\n",
      "         [255., 255., 255.,  ..., 255., 255., 255.],\n",
      "         [255., 255., 255.,  ..., 255., 255., 255.]],\n",
      "\n",
      "        [[  0.,   0.,   0.,  ..., 255., 255., 255.],\n",
      "         [  0.,   0.,   0.,  ..., 255., 255., 255.],\n",
      "         [  0.,   0.,   0.,  ..., 255., 255., 255.],\n",
      "         ...,\n",
      "         [255., 255., 255.,  ..., 255., 255., 255.],\n",
      "         [255., 255., 255.,  ..., 255., 255., 255.],\n",
      "         [255., 255., 255.,  ..., 255., 255., 255.]],\n",
      "\n",
      "        [[  0.,   0.,   0.,  ...,   0.,   0.,   0.],\n",
      "         [  0.,   0.,   0.,  ...,   0.,   0.,   0.],\n",
      "         [  0.,   0.,   0.,  ...,   0.,   0.,   0.],\n",
      "         ...,\n",
      "         [255., 255., 255.,  ..., 255., 255., 255.],\n",
      "         [255., 255., 255.,  ..., 255., 255., 255.],\n",
      "         [255., 255., 255.,  ..., 255., 255., 255.]],\n",
      "\n",
      "        [[  0.,   0.,   0.,  ...,   0.,   0.,   0.],\n",
      "         [  0.,   0.,   0.,  ...,   0.,   0.,   0.],\n",
      "         [  0.,   0.,   0.,  ...,   0.,   0.,   0.],\n",
      "         ...,\n",
      "         [  0.,   0.,   0.,  ...,   0.,   0.,   0.],\n",
      "         [  0.,   0.,   0.,  ...,   0.,   0.,   0.],\n",
      "         [  0.,   0.,   0.,  ...,   0.,   0.,   0.]]])\n",
      "torch.Size([1, 3, 512, 512])\n",
      "tensor([[[  0.,   0.,   0.,  ..., 255., 255., 255.],\n",
      "         [  0.,   0.,   0.,  ..., 255., 255., 255.],\n",
      "         [  0.,   0.,   0.,  ..., 255., 255., 255.],\n",
      "         ...,\n",
      "         [255., 255., 255.,  ..., 255., 255., 255.],\n",
      "         [255., 255., 255.,  ..., 255., 255., 255.],\n",
      "         [255., 255., 255.,  ..., 255., 255., 255.]]])\n"
     ]
    }
   ],
   "source": [
    "for counter, batch in enumerate(trainloader):\n",
    "        images, labels, _, _ = batch #list of images and labes and shape? and names of each list, partly as tensors\n",
    "        print(images.shape)\n",
    "        print(labels)\n",
    "        if counter >1:\n",
    "            break"
   ]
  },
  {
   "cell_type": "code",
   "execution_count": null,
   "metadata": {},
   "outputs": [],
   "source": []
  }
 ],
 "metadata": {
  "kernelspec": {
   "display_name": "Python 3",
   "language": "python",
   "name": "python3"
  },
  "language_info": {
   "codemirror_mode": {
    "name": "ipython",
    "version": 3
   },
   "file_extension": ".py",
   "mimetype": "text/x-python",
   "name": "python",
   "nbconvert_exporter": "python",
   "pygments_lexer": "ipython3",
   "version": "3.7.3"
  }
 },
 "nbformat": 4,
 "nbformat_minor": 2
}
