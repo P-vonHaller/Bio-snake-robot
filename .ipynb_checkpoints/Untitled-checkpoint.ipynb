{
 "cells": [
  {
   "cell_type": "code",
   "execution_count": 1,
   "metadata": {},
   "outputs": [],
   "source": [
    "import torch"
   ]
  },
  {
   "cell_type": "code",
   "execution_count": 4,
   "metadata": {},
   "outputs": [
    {
     "name": "stdout",
     "output_type": "stream",
     "text": [
      "tensor([[1.4517e-01, 8.7595e-01, 1.6304e-01, 9.2334e-04, 2.8377e-01],\n",
      "        [1.2191e-01, 5.5233e-01, 1.3960e-01, 5.8404e-01, 2.9942e-01],\n",
      "        [1.1719e-02, 9.5800e-01, 6.6620e-01, 7.6583e-01, 3.3474e-01],\n",
      "        [1.9912e-01, 7.1778e-01, 1.8680e-01, 3.5545e-01, 4.2444e-01],\n",
      "        [6.8603e-01, 4.1673e-01, 6.4806e-01, 8.6909e-01, 2.4970e-01]])\n"
     ]
    }
   ],
   "source": [
    "x = torch.rand(5, 5)\n",
    "print(x)"
   ]
  },
  {
   "cell_type": "code",
   "execution_count": 9,
   "metadata": {},
   "outputs": [
    {
     "name": "stdout",
     "output_type": "stream",
     "text": [
      "tensor(0.5523)\n"
     ]
    }
   ],
   "source": [
    "print(x[1][1])"
   ]
  },
  {
   "cell_type": "code",
   "execution_count": 10,
   "metadata": {},
   "outputs": [],
   "source": [
    "import torch.nn as nn"
   ]
  },
  {
   "cell_type": "code",
   "execution_count": 16,
   "metadata": {},
   "outputs": [
    {
     "name": "stdout",
     "output_type": "stream",
     "text": [
      "Conv3d(3, 3, kernel_size=(3, 3, 3), stride=(2, 2, 2), bias=False)\n"
     ]
    }
   ],
   "source": [
    "conv1 = nn.Conv3d(3, 3, kernel_size=3, stride=3, bias=False)\n",
    "print(conv1)"
   ]
  },
  {
   "cell_type": "code",
   "execution_count": null,
   "metadata": {},
   "outputs": [],
   "source": []
  }
 ],
 "metadata": {
  "kernelspec": {
   "display_name": "Python 3",
   "language": "python",
   "name": "python3"
  },
  "language_info": {
   "codemirror_mode": {
    "name": "ipython",
    "version": 3
   },
   "file_extension": ".py",
   "mimetype": "text/x-python",
   "name": "python",
   "nbconvert_exporter": "python",
   "pygments_lexer": "ipython3",
   "version": "3.7.3"
  }
 },
 "nbformat": 4,
 "nbformat_minor": 2
}
